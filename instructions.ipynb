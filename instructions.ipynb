{
 "cells": [
  {
   "cell_type": "markdown",
   "id": "ea02cbfa-ee2e-4a08-85e6-6cbd3df83751",
   "metadata": {},
   "source": [
    "# Kialo Discussion Parser"
   ]
  },
  {
   "cell_type": "markdown",
   "id": "f8602c1d-034b-4646-9de3-84487022bdbb",
   "metadata": {},
   "source": [
    "A module for parsing exported discussion files from https://www.kialo.com/."
   ]
  },
  {
   "cell_type": "markdown",
   "id": "c9acd194-08ee-405f-a031-36f698411927",
   "metadata": {},
   "source": [
    "### Usage:"
   ]
  },
  {
   "cell_type": "code",
   "execution_count": 1,
   "id": "0762e7b0-34a7-4597-ac9d-d80bf3d15f4e",
   "metadata": {},
   "outputs": [],
   "source": [
    "from src.discussiontree import DiscussionTree"
   ]
  },
  {
   "cell_type": "markdown",
   "id": "5bbf8f0d-8a6f-4463-8753-de8e1ebd8cac",
   "metadata": {},
   "source": [
    "Create a discussion tree object from a Kialo exported discussion text file:"
   ]
  },
  {
   "cell_type": "code",
   "execution_count": 2,
   "id": "6caf74e4-71a6-431d-993b-96c22c3a8352",
   "metadata": {},
   "outputs": [],
   "source": [
    "dt = DiscussionTree(\"example.csv\")"
   ]
  },
  {
   "cell_type": "markdown",
   "id": "98f94f95-b7a5-4494-b0de-9f784c3cfdf1",
   "metadata": {},
   "source": [
    "Get a node from the tree:"
   ]
  },
  {
   "cell_type": "code",
   "execution_count": 3,
   "id": "10cfb978-4660-45d1-86eb-0ed11ae8307d",
   "metadata": {},
   "outputs": [
    {
     "data": {
      "text/plain": [
       "{'index': '1.1.4.',\n",
       " 'content': 'Justified belief requires some sort of evidence. Therefore, belief without evidence is unjustified.',\n",
       " 'stance': 'Con'}"
      ]
     },
     "execution_count": 3,
     "metadata": {},
     "output_type": "execute_result"
    }
   ],
   "source": [
    "dt.get_entry(\"1.1.4.\")"
   ]
  },
  {
   "cell_type": "markdown",
   "id": "ac233a80-6c47-47d1-8676-8941ce2f3c59",
   "metadata": {},
   "source": [
    "Retrieve the parent of a node"
   ]
  },
  {
   "cell_type": "code",
   "execution_count": 4,
   "id": "c643ea9b-9dbf-4932-a417-0257ec83cb61",
   "metadata": {},
   "outputs": [
    {
     "data": {
      "text/plain": [
       "{'index': '1.1.',\n",
       " 'content': 'Absence of evidence is not evidence of absence.',\n",
       " 'stance': 'Con'}"
      ]
     },
     "execution_count": 4,
     "metadata": {},
     "output_type": "execute_result"
    }
   ],
   "source": [
    "dt.get_parent(\"1.1.5.\")"
   ]
  },
  {
   "cell_type": "markdown",
   "id": "a635d223-5840-42f2-8ec3-14a4546f3f11",
   "metadata": {},
   "source": [
    "Get the siblings of a node:"
   ]
  },
  {
   "cell_type": "code",
   "execution_count": 5,
   "id": "a72cb27f-33b7-4ac5-9ecc-4a2f8efb84dc",
   "metadata": {},
   "outputs": [
    {
     "data": {
      "text/plain": [
       "[{'index': '1.1.1.',\n",
       "  'content': 'Absence of evidence is enough to be skeptical about a certain proposition.',\n",
       "  'stance': 'Con'},\n",
       " {'index': '1.1.2.',\n",
       "  'content': 'There are many events in the Bible asserted as false before being evidenced. Exodus being false would be a premature assertion.',\n",
       "  'stance': 'Pro'},\n",
       " {'index': '1.1.3.',\n",
       "  'content': 'Absence of evidence when evidence is to be expected to be found is a valid form of evidence in itself.',\n",
       "  'stance': 'Con'},\n",
       " {'index': '1.1.4.',\n",
       "  'content': 'Justified belief requires some sort of evidence. Therefore, belief without evidence is unjustified.',\n",
       "  'stance': 'Con'}]"
      ]
     },
     "execution_count": 5,
     "metadata": {},
     "output_type": "execute_result"
    }
   ],
   "source": [
    "dt.get_siblings(\"1.1.5.\")"
   ]
  },
  {
   "cell_type": "markdown",
   "id": "849bf1df-e7bb-48d1-b5c5-6364926f35de",
   "metadata": {},
   "source": [
    "Get the children of a node:"
   ]
  },
  {
   "cell_type": "code",
   "execution_count": 6,
   "id": "876f8ca6-be14-479d-93c9-ee02959f838b",
   "metadata": {},
   "outputs": [
    {
     "data": {
      "text/plain": [
       "[{'index': '1.1.5.1.',\n",
       "  'content': 'This does not preclude the possibility that there is insufficient evidence to determine if a claim is true or false. Regardless of that fact though, the burden of proof remains that those making the claim must produce evidence to provide sufficient warrant for their position, or to abandon the claim as true citing there is insufficient evidence to consider it as true, which is not an admission that it is false, merely that it is unknown.',\n",
       "  'stance': 'Con'}]"
      ]
     },
     "execution_count": 6,
     "metadata": {},
     "output_type": "execute_result"
    }
   ],
   "source": [
    "dt.get_children(\"1.1.5.\")"
   ]
  },
  {
   "cell_type": "markdown",
   "id": "083111d3-8915-475b-9a6f-7af538a9df59",
   "metadata": {},
   "source": [
    "Get a claim containing a search term (also accepts regular expressions):"
   ]
  },
  {
   "cell_type": "code",
   "execution_count": 7,
   "id": "bcf4438e-23ab-4157-8ee7-b2485e417e7c",
   "metadata": {},
   "outputs": [
    {
     "data": {
      "text/plain": [
       "'[Appeal to ignorance](https://en.wikipedia.org/wiki/Argument_from_ignorance) is a logical fallacy, it should not be asserted that a proposition is true because it has not yet been proven false.'"
      ]
     },
     "execution_count": 7,
     "metadata": {},
     "output_type": "execute_result"
    }
   ],
   "source": [
    "indices = dt.find(\"fallacy\")\n",
    "dt.get_entry(indices[0])[\"content\"]"
   ]
  }
 ],
 "metadata": {
  "kernelspec": {
   "display_name": "Python 3 (ipykernel)",
   "language": "python",
   "name": "python3"
  },
  "language_info": {
   "codemirror_mode": {
    "name": "ipython",
    "version": 3
   },
   "file_extension": ".py",
   "mimetype": "text/x-python",
   "name": "python",
   "nbconvert_exporter": "python",
   "pygments_lexer": "ipython3",
   "version": "3.9.7"
  }
 },
 "nbformat": 4,
 "nbformat_minor": 5
}
