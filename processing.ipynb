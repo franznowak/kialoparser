{
 "cells": [
  {
   "cell_type": "markdown",
   "id": "e0c2ca83-83fe-4edb-80f9-bc67a2b5ab9c",
   "metadata": {},
   "source": [
    "## Processing"
   ]
  },
  {
   "cell_type": "markdown",
   "id": "912585a3-4320-45b2-bc81-b9d093a83204",
   "metadata": {},
   "source": [
    "We want to extract the following:\n",
    " 1. Label with explanation: This is the argument that contains the search term\n",
    " 2. Argument: The parent of 1)\n",
    " 3. Claim: The parent of 2)\n",
    " 4. Type of argument: Is 2) a pro or con of 3)?\n",
    " 5. Type of Fallacy\n",
    " 6. Pros: A list containing all the pros of 1)\n",
    " 7. Cons: A list containing all the cons of 1)\n"
   ]
  },
  {
   "cell_type": "code",
   "execution_count": 1,
   "id": "f515d479-7fcf-4397-abc7-c84d5fa46fae",
   "metadata": {},
   "outputs": [
    {
     "name": "stdout",
     "output_type": "stream",
     "text": [
      "1) label: [Appeal to ignorance](https://en.wikipedia.org/wiki/Argument_from_ignorance) is a logical fallacy, it should not be asserted that a proposition is true because it has not yet been proven false.\n",
      "2) argument: Absence of evidence is not evidence of absence.\n",
      "3) claim: There is no historical evidence of Exodus happening.\n",
      "4) stance: Con\n",
      "5) type of fallacy: \"fallacy\"\n",
      "6) Pros\n",
      "7) Cons\n",
      "This does not preclude the possibility that there is insufficient evidence to determine if a claim is true or false. Regardless of that fact though, the burden of proof remains that those making the claim must produce evidence to provide sufficient warrant for their position, or to abandon the claim as true citing there is insufficient evidence to consider it as true, which is not an admission that it is false, merely that it is unknown.\n"
     ]
    }
   ],
   "source": [
    "from src.discussiontree import DiscussionTree\n",
    "dt = DiscussionTree(\"example.csv\")\n",
    "\n",
    "indices = dt.find(\"fallacy\")\n",
    "for index in indices:\n",
    "    \n",
    "    # 1) Label with explanation\n",
    "    label_node = dt.get_entry(index)\n",
    "    label = label_node[\"content\"]\n",
    "    print(f\"1) label: {label}\")\n",
    "    \n",
    "    # 2) Argument\n",
    "    argument_node = dt.get_parent(index)\n",
    "    argument = argument_node[\"content\"]\n",
    "    print(f\"2) argument: {argument}\")\n",
    "    \n",
    "    # 3) Claim\n",
    "    claim_node = dt.get_parent(argument_node[\"index\"])\n",
    "    claim = claim_node[\"content\"]\n",
    "    print(f\"3) claim: {claim}\")\n",
    "    \n",
    "    # 4) Type of argument\n",
    "    stance = argument_node[\"stance\"]\n",
    "    print(f\"4) stance: {stance}\")\n",
    "    \n",
    "    # 5) Type of fallacy\n",
    "    print(\"5) type of fallacy: \\\"fallacy\\\"\")\n",
    "    \n",
    "    # 6) Pros\n",
    "    children = dt.get_children(index)\n",
    "    print(\"6) Pros\")\n",
    "    for child in children:\n",
    "        if child[\"stance\"] == \"Pro\":\n",
    "            print(child[\"content\"])\n",
    "    \n",
    "    # 7) Cons\n",
    "    print(\"7) Cons\")\n",
    "    for child in children:\n",
    "        if child[\"stance\"] == \"Con\":\n",
    "            print(child[\"content\"])\n",
    "    "
   ]
  },
  {
   "cell_type": "markdown",
   "id": "e179abb9-983d-4a06-99e4-ec338b41190f",
   "metadata": {},
   "source": [
    "### Now for a larger dataset"
   ]
  },
  {
   "cell_type": "markdown",
   "id": "2c081429-af5a-4f16-b51b-203d0dfc1abb",
   "metadata": {},
   "source": [
    "Replace with directory containing Kialo debate exports:"
   ]
  },
  {
   "cell_type": "code",
   "execution_count": 2,
   "id": "7479b0b0-1208-45c0-8203-74e8ea649fb7",
   "metadata": {},
   "outputs": [],
   "source": [
    "DEBATES_PATH = \"./debates\""
   ]
  },
  {
   "cell_type": "markdown",
   "id": "982313d6-ce8a-4ddf-89a0-6ebe620aaa57",
   "metadata": {},
   "source": [
    "Load all the debates into a dictionary of discussion trees:"
   ]
  },
  {
   "cell_type": "code",
   "execution_count": 3,
   "id": "e2ec73a3-a5a8-4aa8-b130-256894c678ab",
   "metadata": {},
   "outputs": [],
   "source": [
    "from src.discussiontree import DiscussionTree\n",
    "import os\n",
    "\n",
    "trees = {}\n",
    "\n",
    "for filename in os.listdir(DEBATES_PATH):\n",
    "    trees[filename] = DiscussionTree(os.path.join(DEBATES_PATH, filename))"
   ]
  },
  {
   "cell_type": "markdown",
   "id": "6deb5d18-d62e-4e81-8872-5e38f0265158",
   "metadata": {},
   "source": [
    "Define a method that extracts the info we want into a table row:"
   ]
  },
  {
   "cell_type": "code",
   "execution_count": 4,
   "id": "24f2b3d6-464e-44d8-99b1-33daec5bed52",
   "metadata": {},
   "outputs": [],
   "source": [
    "def parse_row(dt, index, term, header):\n",
    "    row = {}\n",
    "    \n",
    "    # 1) Label with explanation\n",
    "    label_node = dt.get_entry(index)\n",
    "    row[header[0]] = label_node[\"content\"]\n",
    "    \n",
    "    # 2) Argument\n",
    "    argument_node = dt.get_parent(index)\n",
    "    row[header[1]] = argument_node[\"content\"]\n",
    "\n",
    "    try:\n",
    "        # 3) Claim\n",
    "        claim_node = dt.get_parent(argument_node[\"index\"])\n",
    "        row[header[2]] = claim_node[\"content\"]\n",
    "        # 4) Type of argument\n",
    "        row[header[3]] = argument_node[\"stance\"]\n",
    "    except KeyError:\n",
    "        row[header[2]] = row[header[3]] = \"\"\n",
    "\n",
    "    # 5) Type of fallacy\n",
    "    row[header[4]] = term\n",
    "\n",
    "    # 6) Pros\n",
    "    children = dt.get_children(index)\n",
    "    pros = \"\"   \n",
    "    for child in children:\n",
    "        try:\n",
    "            if child[\"stance\"] == \"Pro\":\n",
    "                pros += \" \" + child[\"content\"]\n",
    "        except KeyError:\n",
    "            pass\n",
    "    row[header[5]] = pros\n",
    "\n",
    "    # 7) Cons\n",
    "    cons = \"\"\n",
    "    for child in children:\n",
    "        try:\n",
    "            if child[\"stance\"] == \"Con\":\n",
    "                cons += \" \" + child[\"content\"]\n",
    "        except KeyError:\n",
    "            pass\n",
    "    row[header[6]] = cons\n",
    "    \n",
    "    return row\n"
   ]
  },
  {
   "cell_type": "markdown",
   "id": "6c69c32c-0af6-414a-819d-62a7b84436b0",
   "metadata": {},
   "source": [
    "Specify the search terms that should be used for extraction:"
   ]
  },
  {
   "cell_type": "code",
   "execution_count": 5,
   "id": "9dfb8e8b-d016-40c1-ab22-6e79118b3438",
   "metadata": {},
   "outputs": [],
   "source": [
    "with open(\"fallacy_types.txt\") as file:\n",
    "    terms = file.read().splitlines()"
   ]
  },
  {
   "cell_type": "markdown",
   "id": "0fe6202a-47f4-4035-8ec0-f58b3815396c",
   "metadata": {},
   "source": [
    "Now we can run the extraction and populate csv files with the results:"
   ]
  },
  {
   "cell_type": "code",
   "execution_count": 16,
   "id": "2a60814a-7da1-4a6b-95c0-80b23470d0dd",
   "metadata": {},
   "outputs": [
    {
     "name": "stdout",
     "output_type": "stream",
     "text": [
      "Extraced 495 for \"fallacy\"\n",
      "Extraced 0 for \"false generalization\"\n",
      "Extraced 39 for \"ad hominem\"\n",
      "Extraced 37 for \"ad populum\"\n",
      "Extraced 39 for \"strawman\"\n",
      "Extraced 23 for \"straw man\"\n",
      "Extraced 1 for \"false causality\"\n",
      "Extraced 0 for \"circular rasoning\"\n",
      "Extraced 35 for \"appeal to authority\"\n",
      "Extraced 9 for \"appeal to emotion\"\n",
      "Extraced 31 for \"from ignorance\"\n",
      "Extraced 0 for \"fallacy of relevance\"\n",
      "Extraced 0 for \"deductive fallacy\"\n",
      "Extraced 1 for \"intentional fallacy\"\n",
      "Extraced 0 for \"fallacy of extension\"\n",
      "Extraced 36 for \"false dichotomy\"\n",
      "Extraced 0 for \"fallacy of credibility\"\n",
      "Extraced 15 for \"equivocation\"\n",
      "Extraced 14 for \"naturalistic fallacy\"\n",
      "\n",
      "26771 discussions processed\n",
      "775 results collected\n",
      "180 Key Errors detected\n"
     ]
    }
   ],
   "source": [
    "import csv\n",
    "\n",
    "header = [\"Label\", \"Argument\", \"Claim\", \"Type of Argument\", \"Type of fallacy\", \"Pros\", \"Cons\"]\n",
    "\n",
    "n_trees = 0\n",
    "n_errors = 0\n",
    "n_results = 0\n",
    "for term in terms:\n",
    "    rows = []\n",
    "    n_term_results = 0\n",
    "    for dt in trees.values():\n",
    "        n_trees += 1\n",
    "        indices = dt.find(term)\n",
    "        for index in indices:\n",
    "            try:\n",
    "                row = parse_row(dt, index, term, header)\n",
    "                rows.append(row)\n",
    "                n_term_results += 1\n",
    "            except KeyError:\n",
    "                n_errors += 1\n",
    "    print(f\"Extraced {n_term_results} for \\\"{term}\\\"\")\n",
    "    n_results += n_term_results\n",
    "    import os\n",
    "    filename = f\"results/{term}.csv\"\n",
    "    os.makedirs(os.path.dirname(filename), exist_ok=True)\n",
    "    with open(filename, \"w\") as csvfile:\n",
    "        writer = csv.DictWriter(csvfile, fieldnames = header)\n",
    "        writer.writeheader()\n",
    "        writer.writerows(rows)\n",
    "print(f\"\\n{n_trees} discussions processed\")\n",
    "print(f\"{n_results} results collected\")\n",
    "print(f\"{n_errors} Key Errors detected\")"
   ]
  }
 ],
 "metadata": {
  "kernelspec": {
   "display_name": "Python 3 (ipykernel)",
   "language": "python",
   "name": "python3"
  },
  "language_info": {
   "codemirror_mode": {
    "name": "ipython",
    "version": 3
   },
   "file_extension": ".py",
   "mimetype": "text/x-python",
   "name": "python",
   "nbconvert_exporter": "python",
   "pygments_lexer": "ipython3",
   "version": "3.9.7"
  }
 },
 "nbformat": 4,
 "nbformat_minor": 5
}
